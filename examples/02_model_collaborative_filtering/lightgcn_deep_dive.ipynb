{
 "cells": [
  {
   "cell_type": "markdown",
   "metadata": {},
   "source": [
    "<i>Copyright (c) Microsoft Corporation. All rights reserved.</i>\n",
    "\n",
    "<i>Licensed under the MIT License.</i>"
   ]
  },
  {
   "cell_type": "markdown",
   "metadata": {},
   "source": [
    "# LightGCN - simplified GCN model for recommendation\n",
    "\n",
    "This notebook serves as an introduction to LightGCN, which is an simple, linear and neat Graph Convolution Network (GCN) model for recommendation."
   ]
  },
  {
   "cell_type": "markdown",
   "metadata": {},
   "source": [
    "## 0 Global Settings and Imports"
   ]
  },
  {
   "cell_type": "code",
   "execution_count": 1,
   "metadata": {},
   "outputs": [
    {
     "name": "stdout",
     "output_type": "stream",
     "text": [
      "System version: 3.6.11 | packaged by conda-forge | (default, Nov 27 2020, 18:51:43) \n",
      "[GCC Clang 11.0.0]\n",
      "Pandas version: 0.24.2\n",
      "Tensorflow version: 1.15.4\n"
     ]
    }
   ],
   "source": [
    "import sys\n",
    "sys.path.append(\"../../\")\n",
    "import os\n",
    "import papermill as pm\n",
    "import scrapbook as sb\n",
    "import pandas as pd\n",
    "import numpy as np\n",
    "import tensorflow as tf\n",
    "tf.get_logger().setLevel('ERROR') # only show error messages\n",
    "\n",
    "from reco_utils.common.timer import Timer\n",
    "from reco_utils.recommender.deeprec.models.graphrec.lightgcn import LightGCN\n",
    "from reco_utils.recommender.deeprec.DataModel.ImplicitCF import ImplicitCF\n",
    "from reco_utils.dataset import movielens\n",
    "from reco_utils.dataset.python_splitters import python_stratified_split\n",
    "from reco_utils.evaluation.python_evaluation import map_at_k, ndcg_at_k, precision_at_k, recall_at_k\n",
    "from reco_utils.common.constants import SEED as DEFAULT_SEED\n",
    "from reco_utils.recommender.deeprec.deeprec_utils import prepare_hparams\n",
    "from data_process import *\n",
    "\n",
    "print(\"System version: {}\".format(sys.version))\n",
    "print(\"Pandas version: {}\".format(pd.__version__))\n",
    "print(\"Tensorflow version: {}\".format(tf.__version__))"
   ]
  },
  {
   "cell_type": "code",
   "execution_count": 2,
   "metadata": {
    "tags": [
     "parameters"
    ]
   },
   "outputs": [],
   "source": [
    "# top k items to recommend\n",
    "TOP_K = 10\n",
    "\n",
    "# Select MovieLens data size: 100k, 1m, 10m, or 20m\n",
    "MOVIELENS_DATA_SIZE = '100k'\n",
    "\n",
    "# Model parameters\n",
    "EPOCHS = 50\n",
    "BATCH_SIZE = 1024\n",
    "\n",
    "SEED = DEFAULT_SEED  # Set None for non-deterministic results\n",
    "\n",
    "yaml_file = \"../../reco_utils/recommender/deeprec/config/lightgcn.yaml\"\n",
    "user_file = \"../../tests/resources/deeprec/lightgcn/user_embeddings.csv\"\n",
    "item_file = \"../../tests/resources/deeprec/lightgcn/item_embeddings.csv\""
   ]
  },
  {
   "cell_type": "markdown",
   "metadata": {},
   "source": [
    "## 1 LightGCN model architecture\n",
    "\n",
    "LightGCN is a simplified design of GCN to make it more concise and appropriate for recommendation. The model architecture is illustrated below.\n",
    "\n",
    "<img src=\"https://recodatasets.z20.web.core.windows.net/images/lightGCN-model.jpg\">\n",
    "\n",
    "In Light Graph Convolution, only the normalized sum of neighbor embeddings is performed towards next layer; other operations like self-connection, feature transformation, and nonlinear activation are all removed, which largely simplifies GCNs. In Layer Combination, we sum over the embeddings at each layer to obtain the final representations.\n",
    "\n",
    "### 1.1 Light Graph Convolution (LGC)\n",
    "\n",
    "In LightGCN, we adopt the simple weighted sum aggregator and abandon the use of feature transformation and nonlinear activation. The graph convolution operation in LightGCN is defined as:\n",
    "\n",
    "$$\n",
    "\\begin{array}{l}\n",
    "\\mathbf{e}_{u}^{(k+1)}=\\sum_{i \\in \\mathcal{N}_{u}} \\frac{1}{\\sqrt{\\left|\\mathcal{N}_{u}\\right|} \\sqrt{\\left|\\mathcal{N}_{i}\\right|}} \\mathbf{e}_{i}^{(k)} \\\\\n",
    "\\mathbf{e}_{i}^{(k+1)}=\\sum_{u \\in \\mathcal{N}_{i}} \\frac{1}{\\sqrt{\\left|\\mathcal{N}_{i}\\right|} \\sqrt{\\left|\\mathcal{N}_{u}\\right|}} \\mathbf{e}_{u}^{(k)}\n",
    "\\end{array}\n",
    "$$\n",
    "\n",
    "The symmetric normalization term $\\frac{1}{\\sqrt{\\left|\\mathcal{N}_{u}\\right|} \\sqrt{\\left|\\mathcal{N}_{i}\\right|}}$ follows the design of standard GCN, which can avoid the scale of embeddings increasing with graph convolution operations.\n",
    "\n",
    "\n",
    "### 1.2 Layer Combination and Model Prediction\n",
    "\n",
    "In LightGCN, the only trainable model parameters are the embeddings at the 0-th layer, i.e., $\\mathbf{e}_{u}^{(0)}$ for all users and $\\mathbf{e}_{i}^{(0)}$ for all items. When they are given, the embeddings at higher layers can be computed via LGC. After $K$ layers LGC, we further combine the embeddings obtained at each layer to form the final representation of a user (an item):\n",
    "\n",
    "$$\n",
    "\\mathbf{e}_{u}=\\sum_{k=0}^{K} \\alpha_{k} \\mathbf{e}_{u}^{(k)} ; \\quad \\mathbf{e}_{i}=\\sum_{k=0}^{K} \\alpha_{k} \\mathbf{e}_{i}^{(k)}\n",
    "$$\n",
    "\n",
    "where $\\alpha_{k} \\geq 0$ denotes the importance of the $k$-th layer embedding in constituting the final embedding. In our experiments, we set $\\alpha_{k}$ uniformly as $1 / (K+1)$.\n",
    "\n",
    "The model prediction is defined as the inner product of user and item final representations:\n",
    "\n",
    "$$\n",
    "\\hat{y}_{u i}=\\mathbf{e}_{u}^{T} \\mathbf{e}_{i}\n",
    "$$\n",
    "\n",
    "which is used as the ranking score for recommendation generation.\n",
    "\n",
    "\n",
    "### 1.3 Matrix Form\n",
    "\n",
    "Let the user-item interaction matrix be $\\mathbf{R} \\in \\mathbb{R}^{M \\times N}$ where $M$ and $N$ denote the number of users and items, respectively, and each entry $R_{ui}$ is 1 if $u$ has interacted with item $i$ otherwise 0. We then obtain the adjacency matrix of the user-item graph as\n",
    "\n",
    "$$\n",
    "\\mathbf{A}=\\left(\\begin{array}{cc}\n",
    "\\mathbf{0} & \\mathbf{R} \\\\\n",
    "\\mathbf{R}^{T} & \\mathbf{0}\n",
    "\\end{array}\\right)\n",
    "$$\n",
    "\n",
    "Let the 0-th layer embedding matrix be $\\mathbf{E}^{(0)} \\in \\mathbb{R}^{(M+N) \\times T}$, where $T$ is the embedding size. Then we can obtain the matrix equivalent form of LGC as:\n",
    "\n",
    "$$\n",
    "\\mathbf{E}^{(k+1)}=\\left(\\mathbf{D}^{-\\frac{1}{2}} \\mathbf{A} \\mathbf{D}^{-\\frac{1}{2}}\\right) \\mathbf{E}^{(k)}\n",
    "$$\n",
    "\n",
    "where $\\mathbf{D}$ is a $(M+N) \\times(M+N)$ diagonal matrix, in which each entry $D_{ii}$ denotes the number of nonzero entries in the $i$-th row vector of the adjacency matrix $\\mathbf{A}$ (also named as degree matrix). Lastly, we get the final embedding matrix used for model prediction as:\n",
    "\n",
    "$$\n",
    "\\begin{aligned}\n",
    "\\mathbf{E} &=\\alpha_{0} \\mathbf{E}^{(0)}+\\alpha_{1} \\mathbf{E}^{(1)}+\\alpha_{2} \\mathbf{E}^{(2)}+\\ldots+\\alpha_{K} \\mathbf{E}^{(K)} \\\\\n",
    "&=\\alpha_{0} \\mathbf{E}^{(0)}+\\alpha_{1} \\tilde{\\mathbf{A}} \\mathbf{E}^{(0)}+\\alpha_{2} \\tilde{\\mathbf{A}}^{2} \\mathbf{E}^{(0)}+\\ldots+\\alpha_{K} \\tilde{\\mathbf{A}}^{K} \\mathbf{E}^{(0)}\n",
    "\\end{aligned}\n",
    "$$\n",
    "\n",
    "where $\\tilde{\\mathbf{A}}=\\mathbf{D}^{-\\frac{1}{2}} \\mathbf{A} \\mathbf{D}^{-\\frac{1}{2}}$ is the symmetrically normalized matrix.\n",
    "\n",
    "### 1.4 Model Training\n",
    "\n",
    "We employ the Bayesian Personalized Ranking (BPR) loss which is a pairwise loss that encourages the prediction of an observed entry to be higher than its unobserved counterparts:\n",
    "\n",
    "$$\n",
    "L_{B P R}=-\\sum_{u=1}^{M} \\sum_{i \\in \\mathcal{N}_{u}} \\sum_{j \\notin \\mathcal{N}_{u}} \\ln \\sigma\\left(\\hat{y}_{u i}-\\hat{y}_{u j}\\right)+\\lambda\\left\\|\\mathbf{E}^{(0)}\\right\\|^{2}\n",
    "$$\n",
    "\n",
    "Where $\\lambda$ controls the $L_2$ regularization strength. We employ the Adam optimizer and use it in a mini-batch manner.\n"
   ]
  },
  {
   "cell_type": "markdown",
   "metadata": {},
   "source": [
    "## 2 TensorFlow implementation of LightGCN\n",
    "\n",
    "We will use the MovieLens dataset, which is composed of integer ratings from 1 to 5.\n",
    "\n",
    "We convert MovieLens into implicit feedback for model training and evaluation.\n"
   ]
  },
  {
   "cell_type": "markdown",
   "metadata": {},
   "source": [
    "## 3 TensorFlow LightGCN movie recommender\n",
    "\n",
    "### 3.1 Load and split data\n",
    "\n",
    "We split the full dataset into a `train` and `test` dataset to evaluate performance of the algorithm against a held-out set not seen during training. Because SAR generates recommendations based on user preferences, all users that are in the test set must also exist in the training set. For this case, we can use the provided `python_stratified_split` function which holds out a percentage (in this case 25%) of items from each user, but ensures all users are in both `train` and `test` datasets. Other options are available in the `dataset.python_splitters` module which provide more control over how the split occurs."
   ]
  },
  {
   "cell_type": "code",
   "execution_count": 10,
   "metadata": {},
   "outputs": [
    {
     "output_type": "stream",
     "name": "stderr",
     "text": [
      "100%|██████████| 4.81k/4.81k [00:05<00:00, 932KB/s]\n"
     ]
    },
    {
     "output_type": "execute_result",
     "data": {
      "text/plain": [
       "   userID  itemID  rating  timestamp\n",
       "0     196     242     3.0  881250949\n",
       "1     186     302     3.0  891717742\n",
       "2      22     377     1.0  878887116\n",
       "3     244      51     2.0  880606923\n",
       "4     166     346     1.0  886397596"
      ],
      "text/html": "<div>\n<style scoped>\n    .dataframe tbody tr th:only-of-type {\n        vertical-align: middle;\n    }\n\n    .dataframe tbody tr th {\n        vertical-align: top;\n    }\n\n    .dataframe thead th {\n        text-align: right;\n    }\n</style>\n<table border=\"1\" class=\"dataframe\">\n  <thead>\n    <tr style=\"text-align: right;\">\n      <th></th>\n      <th>userID</th>\n      <th>itemID</th>\n      <th>rating</th>\n      <th>timestamp</th>\n    </tr>\n  </thead>\n  <tbody>\n    <tr>\n      <th>0</th>\n      <td>196</td>\n      <td>242</td>\n      <td>3.0</td>\n      <td>881250949</td>\n    </tr>\n    <tr>\n      <th>1</th>\n      <td>186</td>\n      <td>302</td>\n      <td>3.0</td>\n      <td>891717742</td>\n    </tr>\n    <tr>\n      <th>2</th>\n      <td>22</td>\n      <td>377</td>\n      <td>1.0</td>\n      <td>878887116</td>\n    </tr>\n    <tr>\n      <th>3</th>\n      <td>244</td>\n      <td>51</td>\n      <td>2.0</td>\n      <td>880606923</td>\n    </tr>\n    <tr>\n      <th>4</th>\n      <td>166</td>\n      <td>346</td>\n      <td>1.0</td>\n      <td>886397596</td>\n    </tr>\n  </tbody>\n</table>\n</div>"
     },
     "metadata": {},
     "execution_count": 10
    }
   ],
   "source": [
    "df = movielens.load_pandas_df(size=MOVIELENS_DATA_SIZE)\n",
    "#df=Data('./gowalla',BATCH_SIZE)\n",
    "df.head()"
   ]
  },
  {
   "cell_type": "code",
   "execution_count": 11,
   "metadata": {},
   "outputs": [],
   "source": [
    "train, test = python_stratified_split(df, ratio=0.75)"
   ]
  },
  {
   "cell_type": "code",
   "execution_count": 13,
   "metadata": {},
   "outputs": [
    {
     "output_type": "execute_result",
     "data": {
      "text/plain": [
       "       userID  itemID  rating  timestamp\n",
       "3733        1      31     3.0  875072144\n",
       "15932       1      39     4.0  875072173\n",
       "9382        1     163     4.0  875072442\n",
       "17863       1     226     3.0  878543176\n",
       "42456       1     169     5.0  878543541\n",
       "20153       1      38     3.0  878543075\n",
       "48078       1     238     4.0  875072235\n",
       "4963        1     225     2.0  878542738\n",
       "25721       1     141     3.0  878542608\n",
       "77630       1     217     3.0  876892676\n",
       "36878       1      26     3.0  875072442\n",
       "94019       1     122     3.0  875241498\n",
       "58377       1     153     3.0  876893230\n",
       "9722        1     157     4.0  876892918\n",
       "30479       1     256     4.0  889751712\n",
       "40783       1     223     5.0  876892918\n",
       "57423       1     195     5.0  876892855\n",
       "22669       1     146     4.0  875071561\n",
       "13575       1     254     1.0  878541392\n",
       "6541        1     258     5.0  878873389\n",
       "55636       1     261     1.0  875692992\n",
       "92049       1      28     4.0  875072173\n",
       "4974        1     235     5.0  875071589\n",
       "4411        1      80     4.0  876893008\n",
       "37820       1      37     2.0  878543030\n",
       "972         1     117     3.0  874965739\n",
       "3234        1     114     5.0  875072173\n",
       "43438       1     110     1.0  878542845\n",
       "14792       1     103     1.0  878542845\n",
       "3248        1      74     1.0  889751736\n",
       "...       ...     ...     ...        ...\n",
       "75636     943      73     3.0  888639598\n",
       "98707     943     568     3.0  888639042\n",
       "94874     943     785     2.0  888640088\n",
       "95175     943     201     5.0  888639351\n",
       "83148     943      76     4.0  888639523\n",
       "99832     943     739     4.0  888639929\n",
       "92115     943    1330     3.0  888692465\n",
       "96160     943      50     4.0  875501835\n",
       "80701     943     928     5.0  875502074\n",
       "68857     943    1067     2.0  875501756\n",
       "94429     943     239     5.0  888639867\n",
       "67975     943     570     1.0  888640125\n",
       "98466     943      38     3.0  888640208\n",
       "80400     943     421     2.0  888639351\n",
       "76415     943      27     4.0  888639954\n",
       "87415     943      53     3.0  888640067\n",
       "86629     943     475     5.0  875501889\n",
       "75979     943     195     4.0  888639407\n",
       "79684     943      54     4.0  888639972\n",
       "69424     943     356     4.0  888639598\n",
       "78814     943     117     4.0  875501937\n",
       "84853     943     182     5.0  888639066\n",
       "97612     943     216     4.0  888639327\n",
       "92880     943     234     3.0  888693184\n",
       "89336     943     426     4.0  888640027\n",
       "87976     943     816     4.0  888640186\n",
       "97845     943     168     2.0  888638897\n",
       "98422     943     672     5.0  888640125\n",
       "89206     943     100     5.0  875501725\n",
       "70174     943     186     5.0  888639478\n",
       "\n",
       "[74992 rows x 4 columns]"
      ],
      "text/html": "<div>\n<style scoped>\n    .dataframe tbody tr th:only-of-type {\n        vertical-align: middle;\n    }\n\n    .dataframe tbody tr th {\n        vertical-align: top;\n    }\n\n    .dataframe thead th {\n        text-align: right;\n    }\n</style>\n<table border=\"1\" class=\"dataframe\">\n  <thead>\n    <tr style=\"text-align: right;\">\n      <th></th>\n      <th>userID</th>\n      <th>itemID</th>\n      <th>rating</th>\n      <th>timestamp</th>\n    </tr>\n  </thead>\n  <tbody>\n    <tr>\n      <th>3733</th>\n      <td>1</td>\n      <td>31</td>\n      <td>3.0</td>\n      <td>875072144</td>\n    </tr>\n    <tr>\n      <th>15932</th>\n      <td>1</td>\n      <td>39</td>\n      <td>4.0</td>\n      <td>875072173</td>\n    </tr>\n    <tr>\n      <th>9382</th>\n      <td>1</td>\n      <td>163</td>\n      <td>4.0</td>\n      <td>875072442</td>\n    </tr>\n    <tr>\n      <th>17863</th>\n      <td>1</td>\n      <td>226</td>\n      <td>3.0</td>\n      <td>878543176</td>\n    </tr>\n    <tr>\n      <th>42456</th>\n      <td>1</td>\n      <td>169</td>\n      <td>5.0</td>\n      <td>878543541</td>\n    </tr>\n    <tr>\n      <th>20153</th>\n      <td>1</td>\n      <td>38</td>\n      <td>3.0</td>\n      <td>878543075</td>\n    </tr>\n    <tr>\n      <th>48078</th>\n      <td>1</td>\n      <td>238</td>\n      <td>4.0</td>\n      <td>875072235</td>\n    </tr>\n    <tr>\n      <th>4963</th>\n      <td>1</td>\n      <td>225</td>\n      <td>2.0</td>\n      <td>878542738</td>\n    </tr>\n    <tr>\n      <th>25721</th>\n      <td>1</td>\n      <td>141</td>\n      <td>3.0</td>\n      <td>878542608</td>\n    </tr>\n    <tr>\n      <th>77630</th>\n      <td>1</td>\n      <td>217</td>\n      <td>3.0</td>\n      <td>876892676</td>\n    </tr>\n    <tr>\n      <th>36878</th>\n      <td>1</td>\n      <td>26</td>\n      <td>3.0</td>\n      <td>875072442</td>\n    </tr>\n    <tr>\n      <th>94019</th>\n      <td>1</td>\n      <td>122</td>\n      <td>3.0</td>\n      <td>875241498</td>\n    </tr>\n    <tr>\n      <th>58377</th>\n      <td>1</td>\n      <td>153</td>\n      <td>3.0</td>\n      <td>876893230</td>\n    </tr>\n    <tr>\n      <th>9722</th>\n      <td>1</td>\n      <td>157</td>\n      <td>4.0</td>\n      <td>876892918</td>\n    </tr>\n    <tr>\n      <th>30479</th>\n      <td>1</td>\n      <td>256</td>\n      <td>4.0</td>\n      <td>889751712</td>\n    </tr>\n    <tr>\n      <th>40783</th>\n      <td>1</td>\n      <td>223</td>\n      <td>5.0</td>\n      <td>876892918</td>\n    </tr>\n    <tr>\n      <th>57423</th>\n      <td>1</td>\n      <td>195</td>\n      <td>5.0</td>\n      <td>876892855</td>\n    </tr>\n    <tr>\n      <th>22669</th>\n      <td>1</td>\n      <td>146</td>\n      <td>4.0</td>\n      <td>875071561</td>\n    </tr>\n    <tr>\n      <th>13575</th>\n      <td>1</td>\n      <td>254</td>\n      <td>1.0</td>\n      <td>878541392</td>\n    </tr>\n    <tr>\n      <th>6541</th>\n      <td>1</td>\n      <td>258</td>\n      <td>5.0</td>\n      <td>878873389</td>\n    </tr>\n    <tr>\n      <th>55636</th>\n      <td>1</td>\n      <td>261</td>\n      <td>1.0</td>\n      <td>875692992</td>\n    </tr>\n    <tr>\n      <th>92049</th>\n      <td>1</td>\n      <td>28</td>\n      <td>4.0</td>\n      <td>875072173</td>\n    </tr>\n    <tr>\n      <th>4974</th>\n      <td>1</td>\n      <td>235</td>\n      <td>5.0</td>\n      <td>875071589</td>\n    </tr>\n    <tr>\n      <th>4411</th>\n      <td>1</td>\n      <td>80</td>\n      <td>4.0</td>\n      <td>876893008</td>\n    </tr>\n    <tr>\n      <th>37820</th>\n      <td>1</td>\n      <td>37</td>\n      <td>2.0</td>\n      <td>878543030</td>\n    </tr>\n    <tr>\n      <th>972</th>\n      <td>1</td>\n      <td>117</td>\n      <td>3.0</td>\n      <td>874965739</td>\n    </tr>\n    <tr>\n      <th>3234</th>\n      <td>1</td>\n      <td>114</td>\n      <td>5.0</td>\n      <td>875072173</td>\n    </tr>\n    <tr>\n      <th>43438</th>\n      <td>1</td>\n      <td>110</td>\n      <td>1.0</td>\n      <td>878542845</td>\n    </tr>\n    <tr>\n      <th>14792</th>\n      <td>1</td>\n      <td>103</td>\n      <td>1.0</td>\n      <td>878542845</td>\n    </tr>\n    <tr>\n      <th>3248</th>\n      <td>1</td>\n      <td>74</td>\n      <td>1.0</td>\n      <td>889751736</td>\n    </tr>\n    <tr>\n      <th>...</th>\n      <td>...</td>\n      <td>...</td>\n      <td>...</td>\n      <td>...</td>\n    </tr>\n    <tr>\n      <th>75636</th>\n      <td>943</td>\n      <td>73</td>\n      <td>3.0</td>\n      <td>888639598</td>\n    </tr>\n    <tr>\n      <th>98707</th>\n      <td>943</td>\n      <td>568</td>\n      <td>3.0</td>\n      <td>888639042</td>\n    </tr>\n    <tr>\n      <th>94874</th>\n      <td>943</td>\n      <td>785</td>\n      <td>2.0</td>\n      <td>888640088</td>\n    </tr>\n    <tr>\n      <th>95175</th>\n      <td>943</td>\n      <td>201</td>\n      <td>5.0</td>\n      <td>888639351</td>\n    </tr>\n    <tr>\n      <th>83148</th>\n      <td>943</td>\n      <td>76</td>\n      <td>4.0</td>\n      <td>888639523</td>\n    </tr>\n    <tr>\n      <th>99832</th>\n      <td>943</td>\n      <td>739</td>\n      <td>4.0</td>\n      <td>888639929</td>\n    </tr>\n    <tr>\n      <th>92115</th>\n      <td>943</td>\n      <td>1330</td>\n      <td>3.0</td>\n      <td>888692465</td>\n    </tr>\n    <tr>\n      <th>96160</th>\n      <td>943</td>\n      <td>50</td>\n      <td>4.0</td>\n      <td>875501835</td>\n    </tr>\n    <tr>\n      <th>80701</th>\n      <td>943</td>\n      <td>928</td>\n      <td>5.0</td>\n      <td>875502074</td>\n    </tr>\n    <tr>\n      <th>68857</th>\n      <td>943</td>\n      <td>1067</td>\n      <td>2.0</td>\n      <td>875501756</td>\n    </tr>\n    <tr>\n      <th>94429</th>\n      <td>943</td>\n      <td>239</td>\n      <td>5.0</td>\n      <td>888639867</td>\n    </tr>\n    <tr>\n      <th>67975</th>\n      <td>943</td>\n      <td>570</td>\n      <td>1.0</td>\n      <td>888640125</td>\n    </tr>\n    <tr>\n      <th>98466</th>\n      <td>943</td>\n      <td>38</td>\n      <td>3.0</td>\n      <td>888640208</td>\n    </tr>\n    <tr>\n      <th>80400</th>\n      <td>943</td>\n      <td>421</td>\n      <td>2.0</td>\n      <td>888639351</td>\n    </tr>\n    <tr>\n      <th>76415</th>\n      <td>943</td>\n      <td>27</td>\n      <td>4.0</td>\n      <td>888639954</td>\n    </tr>\n    <tr>\n      <th>87415</th>\n      <td>943</td>\n      <td>53</td>\n      <td>3.0</td>\n      <td>888640067</td>\n    </tr>\n    <tr>\n      <th>86629</th>\n      <td>943</td>\n      <td>475</td>\n      <td>5.0</td>\n      <td>875501889</td>\n    </tr>\n    <tr>\n      <th>75979</th>\n      <td>943</td>\n      <td>195</td>\n      <td>4.0</td>\n      <td>888639407</td>\n    </tr>\n    <tr>\n      <th>79684</th>\n      <td>943</td>\n      <td>54</td>\n      <td>4.0</td>\n      <td>888639972</td>\n    </tr>\n    <tr>\n      <th>69424</th>\n      <td>943</td>\n      <td>356</td>\n      <td>4.0</td>\n      <td>888639598</td>\n    </tr>\n    <tr>\n      <th>78814</th>\n      <td>943</td>\n      <td>117</td>\n      <td>4.0</td>\n      <td>875501937</td>\n    </tr>\n    <tr>\n      <th>84853</th>\n      <td>943</td>\n      <td>182</td>\n      <td>5.0</td>\n      <td>888639066</td>\n    </tr>\n    <tr>\n      <th>97612</th>\n      <td>943</td>\n      <td>216</td>\n      <td>4.0</td>\n      <td>888639327</td>\n    </tr>\n    <tr>\n      <th>92880</th>\n      <td>943</td>\n      <td>234</td>\n      <td>3.0</td>\n      <td>888693184</td>\n    </tr>\n    <tr>\n      <th>89336</th>\n      <td>943</td>\n      <td>426</td>\n      <td>4.0</td>\n      <td>888640027</td>\n    </tr>\n    <tr>\n      <th>87976</th>\n      <td>943</td>\n      <td>816</td>\n      <td>4.0</td>\n      <td>888640186</td>\n    </tr>\n    <tr>\n      <th>97845</th>\n      <td>943</td>\n      <td>168</td>\n      <td>2.0</td>\n      <td>888638897</td>\n    </tr>\n    <tr>\n      <th>98422</th>\n      <td>943</td>\n      <td>672</td>\n      <td>5.0</td>\n      <td>888640125</td>\n    </tr>\n    <tr>\n      <th>89206</th>\n      <td>943</td>\n      <td>100</td>\n      <td>5.0</td>\n      <td>875501725</td>\n    </tr>\n    <tr>\n      <th>70174</th>\n      <td>943</td>\n      <td>186</td>\n      <td>5.0</td>\n      <td>888639478</td>\n    </tr>\n  </tbody>\n</table>\n<p>74992 rows × 4 columns</p>\n</div>"
     },
     "metadata": {},
     "execution_count": 13
    }
   ],
   "source": [
    "train"
   ]
  },
  {
   "cell_type": "code",
   "execution_count": null,
   "metadata": {},
   "outputs": [],
   "source": []
  },
  {
   "cell_type": "markdown",
   "metadata": {},
   "source": [
    "### 3.2 Process data\n",
    "\n",
    "`ImplicitCF` is a class that intializes and loads data for the training process. During the initialization of this class, user IDs and item IDs are reindexed, ratings greater than zero are converted into implicit positive interaction, and adjacency matrix $R$ of user-item graph is created. Some important methods of `ImplicitCF` are:\n",
    "\n",
    "`get_norm_adj_mat`, load normalized adjacency matrix of user-item graph if it already exists in `adj_dir`, otherwise call `create_norm_adj_mat` to create the matrix and save the matrix if `adj_dir` is not `None`. This method will be called during the initialization process of LightGCN model.\n",
    "\n",
    "`create_norm_adj_mat`, create normalized adjacency matrix of user-item graph by calculating $D^{-\\frac{1}{2}} A D^{-\\frac{1}{2}}$, where $\\mathbf{A}=\\left(\\begin{array}{cc}\\mathbf{0} & \\mathbf{R} \\\\ \\mathbf{R}^{T} & \\mathbf{0}\\end{array}\\right)$.\n",
    "\n",
    "`train_loader`, generate a batch of training data — sample a batch of users and then sample one positive item and one negative item for each user. This method will be called before each epoch of the training process.\n"
   ]
  },
  {
   "cell_type": "code",
   "execution_count": 14,
   "metadata": {},
   "outputs": [],
   "source": [
    "data = ImplicitCF(train=train, test=test, seed=SEED)"
   ]
  },
  {
   "cell_type": "code",
   "execution_count": 3,
   "metadata": {},
   "outputs": [
    {
     "name": "stdout",
     "output_type": "stream",
     "text": [
      "n_users=29858, n_items=40981\n",
      "n_interactions=1027370\n",
      "n_train=810128, n_test=217242, sparsity=0.00084\n"
     ]
    }
   ],
   "source": [
    "data=Data('./gowalla',batch_size=BATCH_SIZE)"
   ]
  },
  {
   "cell_type": "markdown",
   "metadata": {},
   "source": [
    "### 3.3 Prepare hyper-parameters\n",
    "\n",
    "Important parameters of `LightGCN` model are:\n",
    "\n",
    "`data`, initialized LightGCNDataset object.\n",
    "\n",
    "`epochs`, number of epochs for training.\n",
    "\n",
    "`n_layers`, number of layers of the model.\n",
    "\n",
    "`eval_epoch`, if it is not None, evaluation metrics will be calculated on test set every \"eval_epoch\" epochs. In this way, we can observe the effect of the model during the training process.\n",
    "\n",
    "`top_k`, the number of items to be recommended for each user when calculating ranking metrics.\n",
    "\n",
    "A complete list of parameters can be found in `yaml_file`. We use `prepare_hparams` to read the yaml file and prepare a full set of parameters for the model. Parameters passed as the function's parameters will overwrite yaml settings."
   ]
  },
  {
   "cell_type": "code",
   "execution_count": 4,
   "metadata": {},
   "outputs": [],
   "source": [
    "hparams = prepare_hparams(yaml_file,\n",
    "                          n_layers=3,\n",
    "                          batch_size=BATCH_SIZE,\n",
    "                          epochs=EPOCHS,\n",
    "                          learning_rate=0.005,\n",
    "                          eval_epoch=5,\n",
    "                          top_k=TOP_K,\n",
    "                         )"
   ]
  },
  {
   "cell_type": "markdown",
   "metadata": {},
   "source": [
    "### 3.4 Create and train model\n",
    "\n",
    "With data and parameters prepared, we can create the LightGCN model.\n",
    "\n",
    "To train the model, we simply need to call the `fit()` method."
   ]
  },
  {
   "cell_type": "code",
   "execution_count": 5,
   "metadata": {},
   "outputs": [
    {
     "name": "stdout",
     "output_type": "stream",
     "text": [
      "already load adj matrix (70839, 70839) 0.21671295166015625\n",
      "Using xavier initialization.\n"
     ]
    }
   ],
   "source": [
    "model = LightGCN(hparams, data, seed=SEED)"
   ]
  },
  {
   "cell_type": "code",
   "execution_count": 6,
   "metadata": {},
   "outputs": [
    {
     "ename": "AttributeError",
     "evalue": "'Data' object has no attribute 'train'",
     "output_type": "error",
     "traceback": [
      "\u001B[0;31m---------------------------------------------------------------------------\u001B[0m",
      "\u001B[0;31mAttributeError\u001B[0m                            Traceback (most recent call last)",
      "\u001B[0;32m<ipython-input-6-d96d8b6801d7>\u001B[0m in \u001B[0;36m<module>\u001B[0;34m\u001B[0m\n\u001B[1;32m      1\u001B[0m \u001B[0;32mwith\u001B[0m \u001B[0mTimer\u001B[0m\u001B[0;34m(\u001B[0m\u001B[0;34m)\u001B[0m \u001B[0;32mas\u001B[0m \u001B[0mtrain_time\u001B[0m\u001B[0;34m:\u001B[0m\u001B[0;34m\u001B[0m\u001B[0;34m\u001B[0m\u001B[0m\n\u001B[0;32m----> 2\u001B[0;31m     \u001B[0mmodel\u001B[0m\u001B[0;34m.\u001B[0m\u001B[0mfit\u001B[0m\u001B[0;34m(\u001B[0m\u001B[0;34m)\u001B[0m\u001B[0;34m\u001B[0m\u001B[0;34m\u001B[0m\u001B[0m\n\u001B[0m\u001B[1;32m      3\u001B[0m \u001B[0;34m\u001B[0m\u001B[0m\n\u001B[1;32m      4\u001B[0m \u001B[0mprint\u001B[0m\u001B[0;34m(\u001B[0m\u001B[0;34m\"Took {} seconds for training.\"\u001B[0m\u001B[0;34m.\u001B[0m\u001B[0mformat\u001B[0m\u001B[0;34m(\u001B[0m\u001B[0mtrain_time\u001B[0m\u001B[0;34m.\u001B[0m\u001B[0minterval\u001B[0m\u001B[0;34m)\u001B[0m\u001B[0;34m)\u001B[0m\u001B[0;34m\u001B[0m\u001B[0;34m\u001B[0m\u001B[0m\n\u001B[1;32m      5\u001B[0m \u001B[0;34m\u001B[0m\u001B[0m\n",
      "\u001B[0;32m~/GitHub/recommenders/reco_utils/recommender/deeprec/models/graphrec/lightgcn.py\u001B[0m in \u001B[0;36mfit\u001B[0;34m(self)\u001B[0m\n\u001B[1;32m    200\u001B[0m             \u001B[0mtrain_start\u001B[0m \u001B[0;34m=\u001B[0m \u001B[0mtime\u001B[0m\u001B[0;34m.\u001B[0m\u001B[0mtime\u001B[0m\u001B[0;34m(\u001B[0m\u001B[0;34m)\u001B[0m\u001B[0;34m\u001B[0m\u001B[0;34m\u001B[0m\u001B[0m\n\u001B[1;32m    201\u001B[0m             \u001B[0mloss\u001B[0m\u001B[0;34m,\u001B[0m \u001B[0mmf_loss\u001B[0m\u001B[0;34m,\u001B[0m \u001B[0memb_loss\u001B[0m \u001B[0;34m=\u001B[0m \u001B[0;36m0.0\u001B[0m\u001B[0;34m,\u001B[0m \u001B[0;36m0.0\u001B[0m\u001B[0;34m,\u001B[0m \u001B[0;36m0.0\u001B[0m\u001B[0;34m\u001B[0m\u001B[0;34m\u001B[0m\u001B[0m\n\u001B[0;32m--> 202\u001B[0;31m             \u001B[0mn_batch\u001B[0m \u001B[0;34m=\u001B[0m \u001B[0mself\u001B[0m\u001B[0;34m.\u001B[0m\u001B[0mdata\u001B[0m\u001B[0;34m.\u001B[0m\u001B[0mtrain\u001B[0m\u001B[0;34m.\u001B[0m\u001B[0mshape\u001B[0m\u001B[0;34m[\u001B[0m\u001B[0;36m0\u001B[0m\u001B[0;34m]\u001B[0m \u001B[0;34m//\u001B[0m \u001B[0mself\u001B[0m\u001B[0;34m.\u001B[0m\u001B[0mbatch_size\u001B[0m \u001B[0;34m+\u001B[0m \u001B[0;36m1\u001B[0m\u001B[0;34m\u001B[0m\u001B[0;34m\u001B[0m\u001B[0m\n\u001B[0m\u001B[1;32m    203\u001B[0m             \u001B[0;32mfor\u001B[0m \u001B[0midx\u001B[0m \u001B[0;32min\u001B[0m \u001B[0mrange\u001B[0m\u001B[0;34m(\u001B[0m\u001B[0mn_batch\u001B[0m\u001B[0;34m)\u001B[0m\u001B[0;34m:\u001B[0m\u001B[0;34m\u001B[0m\u001B[0;34m\u001B[0m\u001B[0m\n\u001B[1;32m    204\u001B[0m                 \u001B[0musers\u001B[0m\u001B[0;34m,\u001B[0m \u001B[0mpos_items\u001B[0m\u001B[0;34m,\u001B[0m \u001B[0mneg_items\u001B[0m \u001B[0;34m=\u001B[0m \u001B[0mself\u001B[0m\u001B[0;34m.\u001B[0m\u001B[0mdata\u001B[0m\u001B[0;34m.\u001B[0m\u001B[0mtrain_loader\u001B[0m\u001B[0;34m(\u001B[0m\u001B[0mself\u001B[0m\u001B[0;34m.\u001B[0m\u001B[0mbatch_size\u001B[0m\u001B[0;34m)\u001B[0m\u001B[0;34m\u001B[0m\u001B[0;34m\u001B[0m\u001B[0m\n",
      "\u001B[0;31mAttributeError\u001B[0m: 'Data' object has no attribute 'train'"
     ]
    }
   ],
   "source": [
    "with Timer() as train_time:\n",
    "    model.fit()\n",
    "\n",
    "print(\"Took {} seconds for training.\".format(train_time.interval))"
   ]
  },
  {
   "cell_type": "markdown",
   "metadata": {},
   "source": [
    "### 3.4 Recommendation and Evaluation"
   ]
  },
  {
   "cell_type": "markdown",
   "metadata": {},
   "source": [
    "Recommendation and evaluation have been performed on the specified test set during training. After training, we can also use the model to perform recommendation and evalution on other data. Here we still use `test` as test data, but `test` can be replaced by other data with similar data structure."
   ]
  },
  {
   "cell_type": "markdown",
   "metadata": {},
   "source": [
    "#### 3.4.1 Recommendation\n",
    "\n",
    "We can call `recommend_k_items` to recommend k items for each user passed in this function. We set `remove_seen=True` to remove the items already seen by the user. The function returns a dataframe, containing each user and top k items recommended to them and the corresponding ranking scores."
   ]
  },
  {
   "cell_type": "code",
   "execution_count": null,
   "metadata": {},
   "outputs": [],
   "source": [
    "topk_scores = model.recommend_k_items(test, top_k=TOP_K, remove_seen=True)\n",
    "\n",
    "topk_scores.head()"
   ]
  },
  {
   "cell_type": "markdown",
   "metadata": {},
   "source": [
    "#### 3.4.2 Evaluation\n",
    "\n",
    "With `topk_scores` predicted by the model, we can evaluate how LightGCN performs on this test set."
   ]
  },
  {
   "cell_type": "code",
   "execution_count": null,
   "metadata": {},
   "outputs": [],
   "source": [
    "eval_map = map_at_k(test, topk_scores, k=TOP_K)\n",
    "eval_ndcg = ndcg_at_k(test, topk_scores, k=TOP_K)\n",
    "eval_precision = precision_at_k(test, topk_scores, k=TOP_K)\n",
    "eval_recall = recall_at_k(test, topk_scores, k=TOP_K)\n",
    "\n",
    "print(\"MAP:\\t%f\" % eval_map,\n",
    "      \"NDCG:\\t%f\" % eval_ndcg,\n",
    "      \"Precision@K:\\t%f\" % eval_precision,\n",
    "      \"Recall@K:\\t%f\" % eval_recall, sep='\\n')"
   ]
  },
  {
   "cell_type": "code",
   "execution_count": null,
   "metadata": {
    "scrolled": true
   },
   "outputs": [],
   "source": [
    "# Record results with papermill for tests\n",
    "sb.glue(\"map\", eval_map)\n",
    "sb.glue(\"ndcg\", eval_ndcg)\n",
    "sb.glue(\"precision\", eval_precision)\n",
    "sb.glue(\"recall\", eval_recall)"
   ]
  },
  {
   "cell_type": "markdown",
   "metadata": {},
   "source": [
    "### 3.5 Infer embeddings\n",
    "\n",
    "With `infer_embedding` method of LightGCN model, we can export the embeddings of users and items in the training set to CSV files for future use."
   ]
  },
  {
   "cell_type": "code",
   "execution_count": null,
   "metadata": {},
   "outputs": [],
   "source": [
    "model.infer_embedding(user_file, item_file)"
   ]
  },
  {
   "cell_type": "markdown",
   "metadata": {},
   "source": [
    "### 3.6 Compare with SAR and NCF\n",
    "\n",
    "Here there are the performances of LightGCN compared to [SAR](../00_quick_start/sar_movielens.ipynb) and [NCF](../00_quick_start/ncf_movielens.ipynb) on MovieLens dataset of 100k and 1m. The method of data loading and splitting is the same as that described above and the GPU used was a GeForce GTX 1080Ti.\n",
    "\n",
    "Settings common to the three models: `epochs=15, seed=42`.\n",
    "\n",
    "Settings for LightGCN: `embed_size=64, n_layers=3, batch_size=1024, decay=0.0001, learning_rate=0.015 `.\n",
    "\n",
    "Settings for SAR: `similarity_type=\"jaccard\", time_decay_coefficient=30, time_now=None, timedecay_formula=True`.\n",
    "\n",
    "Settings for NCF: `n_factors=4, layer_sizes=[16, 8, 4], batch_size=1024, learning_rate=0.001`.\n",
    "\n",
    "| Data Size | Model    | Training time | Recommending time | MAP@10   | nDCG@10  | Precision@10 | Recall@10 |\n",
    "| --------- | -------- | ------------- | ----------------- | -------- | -------- | ------------ | --------- |\n",
    "| 100k      | LightGCN | 27.8865       | 0.6445            | 0.129236 | 0.436297 | 0.381866     | 0.205816  |\n",
    "| 100k      | SAR      | 0.4895        | 0.1144            | 0.110591 | 0.382461 | 0.330753     | 0.176385  |\n",
    "| 100k      | NCF      | 116.3174      | 7.7660            | 0.105725 | 0.387603 | 0.342100     | 0.174580  |\n",
    "| 1m        | LightGCN | 396.7298      | 1.4343            | 0.075012 | 0.377501 | 0.345679     | 0.128096  |\n",
    "| 1m        | SAR      | 4.5593        | 2.8357            | 0.060579 | 0.299245 | 0.270116     | 0.104350  |\n",
    "| 1m        | NCF      | 1601.5846     | 85.4567           | 0.062821 | 0.348770 | 0.320613     | 0.108121  |\n",
    "\n",
    "From the above results, we can see that LightGCN performs better than the other two models."
   ]
  },
  {
   "cell_type": "markdown",
   "metadata": {},
   "source": [
    "### Reference: \n",
    "1. Xiangnan He, Kuan Deng, Xiang Wang, Yan Li, Yongdong Zhang & Meng Wang, LightGCN: Simplifying and Powering Graph Convolution Network for Recommendation, 2020, https://arxiv.org/abs/2002.02126\n",
    "\n",
    "2. LightGCN implementation [TensorFlow]: https://github.com/kuandeng/lightgcn"
   ]
  },
  {
   "cell_type": "code",
   "execution_count": null,
   "metadata": {},
   "outputs": [],
   "source": []
  }
 ],
 "metadata": {
  "celltoolbar": "Tags",
  "kernelspec": {
   "name": "scikit_learn",
   "language": "python",
   "display_name": "scikit_learn"
  },
  "language_info": {
   "codemirror_mode": {
    "name": "ipython",
    "version": 3
   },
   "file_extension": ".py",
   "mimetype": "text/x-python",
   "name": "python",
   "nbconvert_exporter": "python",
   "pygments_lexer": "ipython3",
   "version": "3.6.11"
  }
 },
 "nbformat": 4,
 "nbformat_minor": 2
}